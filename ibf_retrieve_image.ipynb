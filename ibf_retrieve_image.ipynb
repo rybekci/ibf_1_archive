{
 "cells": [
  {
   "cell_type": "code",
   "execution_count": 3,
   "metadata": {},
   "outputs": [],
   "source": [
    "# import the packages\n",
    "import dropbox\n",
    "import os\n",
    "import numpy as np\n",
    "import pandas as pd\n",
    "from scipy.stats import t\n",
    "import math\n",
    "import collections\n",
    "from PIL import Image\n",
    "from dropbox import DropboxOAuth2FlowNoRedirect"
   ]
  },
  {
   "cell_type": "code",
   "execution_count": 4,
   "metadata": {},
   "outputs": [
    {
     "ename": "PermissionError",
     "evalue": "[WinError 5] Access is denied: 'C:/Users/Mehmet/Dropbox/Consulting/koton/data/image'",
     "output_type": "error",
     "traceback": [
      "\u001b[1;31m---------------------------------------------------------------------------\u001b[0m",
      "\u001b[1;31mPermissionError\u001b[0m                           Traceback (most recent call last)",
      "\u001b[1;32m<ipython-input-4-341043ac3186>\u001b[0m in \u001b[0;36m<module>\u001b[1;34m()\u001b[0m\n\u001b[0;32m      1\u001b[0m \u001b[1;31m# read the data file\u001b[0m\u001b[1;33m\u001b[0m\u001b[1;33m\u001b[0m\u001b[0m\n\u001b[0;32m      2\u001b[0m \u001b[0mpath\u001b[0m \u001b[1;33m=\u001b[0m \u001b[1;34m'C:/Users/Mehmet/Dropbox/Consulting/koton/data/image'\u001b[0m\u001b[1;33m\u001b[0m\u001b[0m\n\u001b[1;32m----> 3\u001b[1;33m \u001b[0mos\u001b[0m\u001b[1;33m.\u001b[0m\u001b[0mchdir\u001b[0m\u001b[1;33m(\u001b[0m\u001b[0mpath\u001b[0m\u001b[1;33m)\u001b[0m \u001b[1;31m# change the directory to the path that contains the data excel file\u001b[0m\u001b[1;33m\u001b[0m\u001b[0m\n\u001b[0m\u001b[0;32m      4\u001b[0m \u001b[0mretrieved_image_df\u001b[0m \u001b[1;33m=\u001b[0m \u001b[0mpd\u001b[0m\u001b[1;33m.\u001b[0m\u001b[0mread_excel\u001b[0m\u001b[1;33m(\u001b[0m\u001b[1;34m'retrieved_image_list.xlsx'\u001b[0m\u001b[1;33m,\u001b[0m \u001b[0msheetname\u001b[0m\u001b[1;33m=\u001b[0m\u001b[1;34m'Sheet1'\u001b[0m\u001b[1;33m)\u001b[0m \u001b[1;31m# read the data excel file\u001b[0m\u001b[1;33m\u001b[0m\u001b[0m\n",
      "\u001b[1;31mPermissionError\u001b[0m: [WinError 5] Access is denied: 'C:/Users/Mehmet/Dropbox/Consulting/koton/data/image'"
     ]
    }
   ],
   "source": [
    "# read the data file\n",
    "path = 'C:/Users/Mehmet/Dropbox/Consulting/koton/data/image'\n",
    "os.chdir(path) # change the directory to the path that contains the data excel file\n",
    "retrieved_image_df = pd.read_excel('retrieved_image_list.xlsx', sheetname='Sheet1') # read the data excel file"
   ]
  },
  {
   "cell_type": "code",
   "execution_count": 7,
   "metadata": {},
   "outputs": [
    {
     "name": "stderr",
     "output_type": "stream",
     "text": [
      "C:\\ProgramData\\Anaconda3\\lib\\site-packages\\pandas\\util\\_decorators.py:118: FutureWarning: The `sheetname` keyword is deprecated, use `sheet_name` instead\n",
      "  return func(*args, **kwargs)\n"
     ]
    }
   ],
   "source": [
    "retrieved_image_df = pd.read_excel('../Data/retrieved_image_list.xlsx', sheetname='Sheet1')"
   ]
  },
  {
   "cell_type": "code",
   "execution_count": 3,
   "metadata": {},
   "outputs": [
    {
     "data": {
      "text/plain": [
       "94183"
      ]
     },
     "execution_count": 3,
     "metadata": {},
     "output_type": "execute_result"
    }
   ],
   "source": [
    "len(retrieved_image_df)"
   ]
  },
  {
   "cell_type": "code",
   "execution_count": 4,
   "metadata": {},
   "outputs": [
    {
     "data": {
      "text/html": [
       "<div>\n",
       "<style scoped>\n",
       "    .dataframe tbody tr th:only-of-type {\n",
       "        vertical-align: middle;\n",
       "    }\n",
       "\n",
       "    .dataframe tbody tr th {\n",
       "        vertical-align: top;\n",
       "    }\n",
       "\n",
       "    .dataframe thead th {\n",
       "        text-align: right;\n",
       "    }\n",
       "</style>\n",
       "<table border=\"1\" class=\"dataframe\">\n",
       "  <thead>\n",
       "    <tr style=\"text-align: right;\">\n",
       "      <th></th>\n",
       "      <th>image1_index</th>\n",
       "      <th>image1_size</th>\n",
       "      <th>image2_index</th>\n",
       "      <th>image2_size</th>\n",
       "      <th>image3_index</th>\n",
       "      <th>image3_size</th>\n",
       "      <th>image4_index</th>\n",
       "      <th>image4_size</th>\n",
       "      <th>image5_index</th>\n",
       "      <th>image5_size</th>\n",
       "    </tr>\n",
       "  </thead>\n",
       "  <tbody>\n",
       "    <tr>\n",
       "      <th>5KAL61052JT002</th>\n",
       "      <td>97.0</td>\n",
       "      <td>447933.0</td>\n",
       "      <td>NaN</td>\n",
       "      <td>NaN</td>\n",
       "      <td>NaN</td>\n",
       "      <td>NaN</td>\n",
       "      <td>NaN</td>\n",
       "      <td>NaN</td>\n",
       "      <td>NaN</td>\n",
       "      <td>NaN</td>\n",
       "    </tr>\n",
       "    <tr>\n",
       "      <th>5YAK33043EK999</th>\n",
       "      <td>NaN</td>\n",
       "      <td>NaN</td>\n",
       "      <td>NaN</td>\n",
       "      <td>NaN</td>\n",
       "      <td>NaN</td>\n",
       "      <td>NaN</td>\n",
       "      <td>NaN</td>\n",
       "      <td>NaN</td>\n",
       "      <td>17970.0</td>\n",
       "      <td>120770.0</td>\n",
       "    </tr>\n",
       "    <tr>\n",
       "      <th>5YAK33232EW999</th>\n",
       "      <td>NaN</td>\n",
       "      <td>NaN</td>\n",
       "      <td>NaN</td>\n",
       "      <td>NaN</td>\n",
       "      <td>NaN</td>\n",
       "      <td>NaN</td>\n",
       "      <td>NaN</td>\n",
       "      <td>NaN</td>\n",
       "      <td>17971.0</td>\n",
       "      <td>120770.0</td>\n",
       "    </tr>\n",
       "  </tbody>\n",
       "</table>\n",
       "</div>"
      ],
      "text/plain": [
       "                image1_index  image1_size  image2_index  image2_size  \\\n",
       "5KAL61052JT002          97.0     447933.0           NaN          NaN   \n",
       "5YAK33043EK999           NaN          NaN           NaN          NaN   \n",
       "5YAK33232EW999           NaN          NaN           NaN          NaN   \n",
       "\n",
       "                image3_index  image3_size  image4_index  image4_size  \\\n",
       "5KAL61052JT002           NaN          NaN           NaN          NaN   \n",
       "5YAK33043EK999           NaN          NaN           NaN          NaN   \n",
       "5YAK33232EW999           NaN          NaN           NaN          NaN   \n",
       "\n",
       "                image5_index  image5_size  \n",
       "5KAL61052JT002           NaN          NaN  \n",
       "5YAK33043EK999       17970.0     120770.0  \n",
       "5YAK33232EW999       17971.0     120770.0  "
      ]
     },
     "execution_count": 4,
     "metadata": {},
     "output_type": "execute_result"
    }
   ],
   "source": [
    "retrieved_image_df.head(3)"
   ]
  },
  {
   "cell_type": "code",
   "execution_count": 5,
   "metadata": {
    "collapsed": true,
    "scrolled": true
   },
   "outputs": [],
   "source": [
    "os.chdir('C:/Users/Mehmet/Dropbox/Consulting/koton/data/image/test') # change the directory to the path"
   ]
  },
  {
   "cell_type": "code",
   "execution_count": 11,
   "metadata": {},
   "outputs": [],
   "source": [
    "access_token='0DQLcsXIojcAAAAAAAgybeB3DOmXKK7bRTLyYwkthbrAiGmpQR4AuGINQkjBXhif'"
   ]
  },
  {
   "cell_type": "code",
   "execution_count": 12,
   "metadata": {
    "scrolled": true
   },
   "outputs": [
    {
     "ename": "NameError",
     "evalue": "name 'oauth_result' is not defined",
     "output_type": "error",
     "traceback": [
      "\u001b[1;31m---------------------------------------------------------------------------\u001b[0m",
      "\u001b[1;31mNameError\u001b[0m                                 Traceback (most recent call last)",
      "\u001b[1;32m<ipython-input-12-b4e2be2258e2>\u001b[0m in \u001b[0;36m<module>\u001b[1;34m()\u001b[0m\n\u001b[1;32m----> 1\u001b[1;33m \u001b[0mdbx\u001b[0m \u001b[1;33m=\u001b[0m \u001b[0mdropbox\u001b[0m\u001b[1;33m.\u001b[0m\u001b[0mDropbox\u001b[0m\u001b[1;33m(\u001b[0m\u001b[0moauth_result\u001b[0m\u001b[1;33m.\u001b[0m\u001b[0maccess_token\u001b[0m\u001b[1;33m)\u001b[0m\u001b[1;33m\u001b[0m\u001b[0m\n\u001b[0m",
      "\u001b[1;31mNameError\u001b[0m: name 'oauth_result' is not defined"
     ]
    }
   ],
   "source": [
    "dbx = dropbox.Dropbox(oauth_result.access_token)"
   ]
  },
  {
   "cell_type": "code",
   "execution_count": 13,
   "metadata": {},
   "outputs": [],
   "source": [
    "access_token='0DQLcsXIojcAAAAAAAgybeB3DOmXKK7bRTLyYwkthbrAiGmpQR4AuGINQkjBXhif'\n",
    "dbx = dropbox.Dropbox(access_token)"
   ]
  },
  {
   "cell_type": "code",
   "execution_count": 9,
   "metadata": {},
   "outputs": [],
   "source": [
    "im_type = ['image1', 'image2', 'image3', 'image4', 'image5']"
   ]
  },
  {
   "cell_type": "code",
   "execution_count": 73,
   "metadata": {
    "collapsed": true
   },
   "outputs": [],
   "source": [
    "picture_index = np.random.randint(len(retrieved_image_df))"
   ]
  },
  {
   "cell_type": "code",
   "execution_count": 5,
   "metadata": {},
   "outputs": [],
   "source": [
    "picture_index = 30342"
   ]
  },
  {
   "cell_type": "code",
   "execution_count": 14,
   "metadata": {
    "scrolled": true
   },
   "outputs": [
    {
     "name": "stdout",
     "output_type": "stream",
     "text": [
      "/Koton_Image_Files/6YKG17773AK03A_image1_26943.jpg\n",
      "/Koton_Image_Files/6YKG17773AK03A_image2_26943.jpg\n",
      "/Koton_Image_Files/6YKG17773AK03A_image3_26943.jpg\n",
      "/Koton_Image_Files/6YKG17773AK03A_image4_26943.jpg\n",
      "/Koton_Image_Files/6YKG17773AK03A_image5_26943.jpg\n"
     ]
    }
   ],
   "source": [
    "for i in range(5):\n",
    "    code = retrieved_image_df.iloc[picture_index].name\n",
    "    im_index = retrieved_image_df.iloc[picture_index][im_type[i]+'_index']\n",
    "    if (math.isnan(float(im_index))==False):\n",
    "        filename = str(code)+'_'+im_type[i]+'_'+str(int(im_index))+'.jpg'\n",
    "        path = '/Koton_Image_Files/'+filename\n",
    "        try:\n",
    "            md, res = dbx.files_download(path)\n",
    "            out = open(filename, 'wb')\n",
    "            out.write(res.content)\n",
    "            out.close()\n",
    "            print(path)\n",
    "        except Exception as e:\n",
    "            print(path+' Not found')\n",
    "            print(e)"
   ]
  },
  {
   "cell_type": "code",
   "execution_count": 20,
   "metadata": {},
   "outputs": [],
   "source": [
    "os.chdir('C:/Users/Recep/Koton/Code/Images')"
   ]
  },
  {
   "cell_type": "code",
   "execution_count": 24,
   "metadata": {},
   "outputs": [],
   "source": [
    "code = '7YAK47166DDXXX'"
   ]
  },
  {
   "cell_type": "code",
   "execution_count": 25,
   "metadata": {
    "scrolled": true
   },
   "outputs": [
    {
     "name": "stdout",
     "output_type": "stream",
     "text": [
      "7YAK47166DDXXX does not exist in the index\n"
     ]
    }
   ],
   "source": [
    "if (code.upper() in retrieved_image_df.index):\n",
    "    for i in range(5):\n",
    "        im_index = retrieved_image_df.loc[code.upper()][im_type[i]+'_index']\n",
    "        if (math.isnan(float(im_index))==False):\n",
    "            filename = str(code) +'_'+im_type[i]+'_'+str(int(im_index))+'.jpg'\n",
    "            path = '/Koton_Image_Files/'+filename\n",
    "            try:\n",
    "                md, res = dbx.files_download(path)\n",
    "                out = open(filename, 'wb')\n",
    "                out.write(res.content)\n",
    "                out.close()\n",
    "                print(path)\n",
    "            except:\n",
    "                print(path+' Not found')\n",
    "else:\n",
    "    print(code + ' does not exist in the index')"
   ]
  },
  {
   "cell_type": "code",
   "execution_count": null,
   "metadata": {
    "collapsed": true
   },
   "outputs": [],
   "source": []
  }
 ],
 "metadata": {
  "kernelspec": {
   "display_name": "Python 3",
   "language": "python",
   "name": "python3"
  },
  "language_info": {
   "codemirror_mode": {
    "name": "ipython",
    "version": 3
   },
   "file_extension": ".py",
   "mimetype": "text/x-python",
   "name": "python",
   "nbconvert_exporter": "python",
   "pygments_lexer": "ipython3",
   "version": "3.6.4"
  }
 },
 "nbformat": 4,
 "nbformat_minor": 2
}
